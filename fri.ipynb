{
 "cells": [
  {
   "cell_type": "code",
   "execution_count": null,
   "metadata": {},
   "outputs": [],
   "source": [
    "# 3. Create a function that takes a list of numbers and returns a new list with only the prime numbers.\n",
    "\n",
    "numbers_list = [2, 3, 5, 7, 8, 11, 13, 17, 20]\n",
    "\n",
    "def isPrime(n):\n",
    "    if n < 2:\n",
    "        return False\n",
    "    for i in range(2, int(n) + 1):\n",
    "        if n % i == 0:\n",
    "            return False\n",
    "    return True\n",
    "    \n",
    "def primeFilter(l):\n",
    "    prime_numbers = list((filter(isPrime,l)))\n",
    "    print(prime_numbers)\n",
    "    \n",
    "primeFilter(numbers_list)\n",
    "    "
   ]
  },
  {
   "cell_type": "code",
   "execution_count": null,
   "metadata": {},
   "outputs": [],
   "source": [
    "# fix the prime function omfg ."
   ]
  },
  {
   "cell_type": "code",
   "execution_count": null,
   "metadata": {},
   "outputs": [],
   "source": [
    "numbers_list = [2, 3, 5, 7, 8, 11, 13, 17, 20]\n",
    "\n",
    "def isPrime(n):\n",
    "    if n < 2:\n",
    "        return False\n",
    "    for i in range(2, int(n)):\n",
    "        if n % i == 0:\n",
    "            return False\n",
    "    return True\n",
    "    \n",
    "def primeFilter(l):\n",
    "    prime_numbers = list((filter(isPrime,l)))\n",
    "    print(prime_numbers)\n",
    "    \n",
    "primeFilter(numbers_list)"
   ]
  },
  {
   "cell_type": "code",
   "execution_count": null,
   "metadata": {},
   "outputs": [],
   "source": [
    "# Write a program to find the most common element in a list.\n",
    "elements_list = [1, 2, 3, 2, 4, 3, 5, 6, 2, 3]\n",
    "element_count = {}\n",
    "\n",
    "elements_set = set(elements_list)\n",
    "\n",
    "for x in elements_set :\n",
    "    count = elements_list.count(x)\n",
    "    element_count[x] = count\n",
    "\n",
    "print(element_count)\n",
    "#element_count = list(sorted(element_count.items(),lambda n: n[1]))\n",
    "\n",
    "    \n",
    "    \n",
    "''' make dictionary with number : count, sort by descending order, output first one'''\n",
    "\n"
   ]
  }
 ],
 "metadata": {
  "language_info": {
   "name": "python"
  },
  "orig_nbformat": 4
 },
 "nbformat": 4,
 "nbformat_minor": 2
}
